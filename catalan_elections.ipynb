{
 "cells": [
  {
   "cell_type": "code",
   "execution_count": 1,
   "metadata": {
    "collapsed": false
   },
   "outputs": [
    {
     "name": "stdout",
     "output_type": "stream",
     "text": [
      "Using matplotlib backend: MacOSX\n"
     ]
    }
   ],
   "source": [
    "import pandas as pd\n",
    "import numpy as np\n",
    "%matplotlib\n",
    "from matplotlib import pyplot as plt"
   ]
  },
  {
   "cell_type": "code",
   "execution_count": 185,
   "metadata": {
    "collapsed": true
   },
   "outputs": [],
   "source": [
    "# download data from \n",
    "# http://governacio.gencat.cat/ca/pgov_ambits_d_actuacio/pgov_eleccions/pgov_dades_electorals/"
   ]
  },
  {
   "cell_type": "markdown",
   "metadata": {},
   "source": [
    "### INTRODUCTION"
   ]
  },
  {
   "cell_type": "markdown",
   "metadata": {},
   "source": [
    "Regional elections in Catalonia on 27 September 2015  were not ordinary ones. They were a referendum in disguise. A referendum on the independence of Catalonia from the Spanish state. IDESCAT is the national institute of statistics of Catalonia."
   ]
  },
  {
   "cell_type": "markdown",
   "metadata": {},
   "source": [
    "#### IMPORT AND PROCESS ELECTORAL DATA"
   ]
  },
  {
   "cell_type": "code",
   "execution_count": 14,
   "metadata": {
    "collapsed": false
   },
   "outputs": [],
   "source": [
    "# import codes, pct votes, Candid\n",
    "df_pct_vote_info = pd.read_csv('A20151_MU/FilesVots_A20151_MU_ca_ES.csv',sep =';',encoding='latin-1') \n",
    "# turn pct data from strings into integers ( first need to change comma into decimal point)\n",
    "df_pct_vote_info[\"% vàlids\"] = pd.to_numeric(df_pct_vote_info['% vàlids'].str.replace(\",\",\".\")) \n",
    "# make pivot table to rearrange info\n",
    "df_pct_vote_info = df_pct_vote_info.pivot_table(index = [\"Nom Municipi\", \"Codi Municipi\", \"Codi Província\"], columns = \"Candidatures\", values = \"% vàlids\")\n",
    "df_pct_vote_info = df_pct_vote_info.filter( regex = r\"(Junt|Ciuta|Sociali|Partit Pop|es Pot|Unitat|Democr|Codi Mun)\" )\n",
    "# rename columns (change name Candidatures to make it simpler)\n",
    "df_pct_vote_info.columns = [\"CUP_pct\",\"CSQP_pct\",\"Cs_pct\",\"JxSi_pct\",\"PP_pct\",\"PSC_pct\",\"Unio_pct\"]\n",
    "# reset index\n",
    "df_pct_vote_info = df_pct_vote_info.reset_index().set_index('Nom Municipi')\n",
    "## Add columns\n",
    "df_pct_vote_info['Unionisme_pct'] = df_pct_vote_info['Cs_pct'] + df_pct_vote_info['PSC_pct'] + df_pct_vote_info['PP_pct']\n",
    "df_pct_vote_info['Independ_pct'] = df_pct_vote_info['JxSi_pct'] + df_pct_vote_info['CUP_pct']"
   ]
  },
  {
   "cell_type": "code",
   "execution_count": 94,
   "metadata": {
    "collapsed": true
   },
   "outputs": [],
   "source": [
    "df_codes = pd.read_html('https://www.idescat.cat/codis/?id=50&n=9')[0]\n",
    "df_codes.columns = ['Codi', 'Nom', 'Codi comarca', 'Nom comarca']\n",
    "df_codes = df_codes.set_index('Nom')\n",
    "df_codes.to_csv('Municip_codes_from_IDESCAT.csv')"
   ]
  },
  {
   "cell_type": "markdown",
   "metadata": {},
   "source": [
    "#### EXAMPLES TO UNDERSTAND DF MERGE, JOIN"
   ]
  },
  {
   "cell_type": "code",
   "execution_count": 129,
   "metadata": {
    "collapsed": false
   },
   "outputs": [],
   "source": [
    "d1 = pd.DataFrame({'a':[1,2], 'b':[3,4]})\n",
    "d2 = pd.DataFrame({'c':[11,22],'d':[33,44]})"
   ]
  },
  {
   "cell_type": "code",
   "execution_count": 130,
   "metadata": {
    "collapsed": false
   },
   "outputs": [
    {
     "data": {
      "text/html": [
       "<div>\n",
       "<table border=\"1\" class=\"dataframe\">\n",
       "  <thead>\n",
       "    <tr style=\"text-align: right;\">\n",
       "      <th></th>\n",
       "      <th>a</th>\n",
       "      <th>b</th>\n",
       "      <th>c</th>\n",
       "      <th>d</th>\n",
       "    </tr>\n",
       "  </thead>\n",
       "  <tbody>\n",
       "    <tr>\n",
       "      <th>0</th>\n",
       "      <td>1</td>\n",
       "      <td>3</td>\n",
       "      <td>11</td>\n",
       "      <td>33</td>\n",
       "    </tr>\n",
       "    <tr>\n",
       "      <th>1</th>\n",
       "      <td>2</td>\n",
       "      <td>4</td>\n",
       "      <td>22</td>\n",
       "      <td>44</td>\n",
       "    </tr>\n",
       "  </tbody>\n",
       "</table>\n",
       "</div>"
      ],
      "text/plain": [
       "   a  b   c   d\n",
       "0  1  3  11  33\n",
       "1  2  4  22  44"
      ]
     },
     "execution_count": 130,
     "metadata": {},
     "output_type": "execute_result"
    }
   ],
   "source": [
    "d1.join(d2)"
   ]
  },
  {
   "cell_type": "code",
   "execution_count": 152,
   "metadata": {
    "collapsed": true
   },
   "outputs": [],
   "source": [
    "dummy_1 = pd.DataFrame({'codis':['aa','bb','cc'], 'val1':[2,5,7]}).set_index('codis')\n",
    "dummy_2 = pd.DataFrame({'codis':['aa','bb','dd'], 'val2':[21,52,74]}).set_index('codis')"
   ]
  },
  {
   "cell_type": "code",
   "execution_count": 155,
   "metadata": {
    "collapsed": false
   },
   "outputs": [
    {
     "data": {
      "text/html": [
       "<div>\n",
       "<table border=\"1\" class=\"dataframe\">\n",
       "  <thead>\n",
       "    <tr style=\"text-align: right;\">\n",
       "      <th></th>\n",
       "      <th>val2</th>\n",
       "      <th>val1</th>\n",
       "    </tr>\n",
       "    <tr>\n",
       "      <th>codis</th>\n",
       "      <th></th>\n",
       "      <th></th>\n",
       "    </tr>\n",
       "  </thead>\n",
       "  <tbody>\n",
       "    <tr>\n",
       "      <th>aa</th>\n",
       "      <td>21</td>\n",
       "      <td>2</td>\n",
       "    </tr>\n",
       "    <tr>\n",
       "      <th>bb</th>\n",
       "      <td>52</td>\n",
       "      <td>5</td>\n",
       "    </tr>\n",
       "    <tr>\n",
       "      <th>dd</th>\n",
       "      <td>74</td>\n",
       "      <td>NaN</td>\n",
       "    </tr>\n",
       "  </tbody>\n",
       "</table>\n",
       "</div>"
      ],
      "text/plain": [
       "       val2  val1\n",
       "codis            \n",
       "aa       21     2\n",
       "bb       52     5\n",
       "dd       74   NaN"
      ]
     },
     "execution_count": 155,
     "metadata": {},
     "output_type": "execute_result"
    }
   ],
   "source": [
    "dummy_2.join(dummy_1)"
   ]
  },
  {
   "cell_type": "code",
   "execution_count": 156,
   "metadata": {
    "collapsed": false
   },
   "outputs": [
    {
     "data": {
      "text/html": [
       "<div>\n",
       "<table border=\"1\" class=\"dataframe\">\n",
       "  <thead>\n",
       "    <tr style=\"text-align: right;\">\n",
       "      <th></th>\n",
       "      <th>val1</th>\n",
       "      <th>val2</th>\n",
       "    </tr>\n",
       "    <tr>\n",
       "      <th>codis</th>\n",
       "      <th></th>\n",
       "      <th></th>\n",
       "    </tr>\n",
       "  </thead>\n",
       "  <tbody>\n",
       "    <tr>\n",
       "      <th>aa</th>\n",
       "      <td>2</td>\n",
       "      <td>21</td>\n",
       "    </tr>\n",
       "    <tr>\n",
       "      <th>bb</th>\n",
       "      <td>5</td>\n",
       "      <td>52</td>\n",
       "    </tr>\n",
       "    <tr>\n",
       "      <th>cc</th>\n",
       "      <td>7</td>\n",
       "      <td>NaN</td>\n",
       "    </tr>\n",
       "  </tbody>\n",
       "</table>\n",
       "</div>"
      ],
      "text/plain": [
       "       val1  val2\n",
       "codis            \n",
       "aa        2    21\n",
       "bb        5    52\n",
       "cc        7   NaN"
      ]
     },
     "execution_count": 156,
     "metadata": {},
     "output_type": "execute_result"
    }
   ],
   "source": [
    "dummy_1.join(dummy_2)"
   ]
  },
  {
   "cell_type": "code",
   "execution_count": 163,
   "metadata": {
    "collapsed": false
   },
   "outputs": [
    {
     "data": {
      "text/html": [
       "<div>\n",
       "<table border=\"1\" class=\"dataframe\">\n",
       "  <thead>\n",
       "    <tr style=\"text-align: right;\">\n",
       "      <th></th>\n",
       "      <th>val1</th>\n",
       "      <th>val2</th>\n",
       "    </tr>\n",
       "    <tr>\n",
       "      <th>codis</th>\n",
       "      <th></th>\n",
       "      <th></th>\n",
       "    </tr>\n",
       "  </thead>\n",
       "  <tbody>\n",
       "    <tr>\n",
       "      <th>aa</th>\n",
       "      <td>2</td>\n",
       "      <td>21</td>\n",
       "    </tr>\n",
       "    <tr>\n",
       "      <th>bb</th>\n",
       "      <td>5</td>\n",
       "      <td>52</td>\n",
       "    </tr>\n",
       "    <tr>\n",
       "      <th>cc</th>\n",
       "      <td>7</td>\n",
       "      <td>NaN</td>\n",
       "    </tr>\n",
       "    <tr>\n",
       "      <th>dd</th>\n",
       "      <td>NaN</td>\n",
       "      <td>74</td>\n",
       "    </tr>\n",
       "  </tbody>\n",
       "</table>\n",
       "</div>"
      ],
      "text/plain": [
       "       val1  val2\n",
       "codis            \n",
       "aa        2    21\n",
       "bb        5    52\n",
       "cc        7   NaN\n",
       "dd      NaN    74"
      ]
     },
     "execution_count": 163,
     "metadata": {},
     "output_type": "execute_result"
    }
   ],
   "source": [
    "pd.merge(dummy_1, dummy_2, left_index=True, right_index=True, how='outer')"
   ]
  },
  {
   "cell_type": "code",
   "execution_count": 95,
   "metadata": {
    "collapsed": false
   },
   "outputs": [],
   "source": [
    "pd.merge(df_pct_vote_info, df_codes, left_index=True, right_index=True, how='outer')"
   ]
  },
  {
   "cell_type": "code",
   "execution_count": 96,
   "metadata": {
    "collapsed": false
   },
   "outputs": [],
   "source": [
    "# url = 'http://www.idescat.cat/emex/?id=080327'\n",
    "# id_scrap = requests.get(url, headers=headers)\n",
    "# soup = BeautifulSoup(id_scrap.text, \"lxml\")\n",
    "# table = soup.findAll(\"table\", id ='t90')\n",
    "# xx = pd.read_html(str(table), thousands='.')[0]"
   ]
  },
  {
   "cell_type": "code",
   "execution_count": 97,
   "metadata": {
    "collapsed": true
   },
   "outputs": [],
   "source": [
    "import requests\n",
    "from bs4 import BeautifulSoup\n",
    "import json\n",
    "\n",
    "headers = {'User-Agent':\n",
    "           \"Mozilla/5.0 (Macintosh; Intel Mac OS X 10_11_3) AppleWebKit/601.4.4 (KHTML, like Gecko) Version/9.0.3 Safari/601.4.4\"}\n",
    "\n",
    "list_ids = ['t68','t56','t84','t90','t5']\n",
    "labels = ['Pop_struct', 'Unemployment', 'Educ_level', \"Català\", 'Income_level']\n",
    "\n",
    "df_codes = pd.read_csv('Municip_codes_from_IDESCAT.csv')\n",
    "codes, names = df_codes['Codi'].astype(str).str.zfill(6).values, df_codes['Nom'].values\n",
    "\n",
    "all_munic_info = defaultdict(dict)\n",
    "\n",
    "for code, name in zip(codes, names):\n",
    "    print(name)\n",
    "    url = 'http://www.idescat.cat/emex/?id=' + code\n",
    "    req_resp = requests.get(url, headers=headers)\n",
    "    soup = BeautifulSoup(req_resp.text, \"lxml\")\n",
    "    for idx, label in zip(list_ids, labels):\n",
    "        try:\n",
    "            table = soup.findAll(\"table\", id =idx)\n",
    "            values = pd.read_html(str(table), thousands='.')[0][name].str.replace(\",\", \".\").values[:-1]\n",
    "            all_munic_info[name][label] = [float(x) if '.' in x \n",
    "                                           else None if ':' in x  \n",
    "                                           else int(x) \n",
    "                                           for x in values]\n",
    "        except:\n",
    "            all_munic_info[name][label] = []\n",
    "#save data            \n",
    "with open('ALL_MUNICIPAL_DATA.json', 'w') as f:\n",
    "    json.dump(all_munic_info, f)         "
   ]
  },
  {
   "cell_type": "code",
   "execution_count": 4,
   "metadata": {
    "collapsed": false
   },
   "outputs": [],
   "source": [
    "with open('ALL_MUNICIPAL_DATA.json') as data_file:    \n",
    "    data = json.load(data_file)"
   ]
  },
  {
   "cell_type": "markdown",
   "metadata": {},
   "source": [
    "#### Make dataframes from json data"
   ]
  },
  {
   "cell_type": "code",
   "execution_count": 139,
   "metadata": {
    "collapsed": true
   },
   "outputs": [],
   "source": [
    "pop_stats, ed_level_stats, cat_stats = [], [], []\n",
    "names_municips = []\n",
    "for idx, (key, val) in enumerate(data.items()):\n",
    "    pop_stats.append(val['Pop_struct'])\n",
    "    ed_level_stats.append(val['Educ_level'])\n",
    "    cat_stats.append(val['Català'])\n",
    "    names_municips.append(key)\n",
    "pop_stats = pd.DataFrame(pop_stats, columns =['Cat', 'Spa', 'Abroad', 'Tot'])\n",
    "ed_level_stats = pd.DataFrame(ed_level_stats, columns =['ST', '1erGrau', '2nGrau','Univ','Tot_Niv_Ed'])\n",
    "cat_stats = pd.DataFrame(cat_stats, columns = ['understands', 'speaks', 'reads', 'writes', 'no_underst', 'Tot_cat'])\n",
    "names_municips = pd.DataFrame(names_municips, columns=['Municipi'])"
   ]
  },
  {
   "cell_type": "code",
   "execution_count": 140,
   "metadata": {
    "collapsed": false
   },
   "outputs": [],
   "source": [
    "# add new columns to data dfs\n",
    "pop_stats['pct_foreign'] = 100 * pop_stats['Abroad'] / pop_stats['Tot']\n",
    "pop_stats['pct_spa'] = 100 * pop_stats['Spa'] / pop_stats['Tot']\n",
    "ed_level_stats['pct_Univ'] = 100 * ed_level_stats['Univ']/ed_level_stats['Tot_Niv_Ed']\n",
    "cat_stats['pct_cat_speakers'] = 100 * cat_stats['speaks'] / cat_stats['Tot_cat']\n",
    "\n",
    "all_stats = pop_stats.join(ed_level_stats).join(cat_stats).join(names_municips)\n",
    "all_stats = all_stats.set_index('Municipi')\n",
    "\n",
    "# all_stats = pd.merge(pop_stats, ed_level_stats)\n",
    "# all_stats = pd.merge(all_stats, cat_stats).set_index('Municipi')"
   ]
  },
  {
   "cell_type": "code",
   "execution_count": 141,
   "metadata": {
    "collapsed": false
   },
   "outputs": [],
   "source": [
    "DF_ALL_MUNIC_DATA = df_pct_vote_info.join(all_stats)"
   ]
  },
  {
   "cell_type": "code",
   "execution_count": 142,
   "metadata": {
    "collapsed": false
   },
   "outputs": [
    {
     "data": {
      "text/html": [
       "<div>\n",
       "<table border=\"1\" class=\"dataframe\">\n",
       "  <thead>\n",
       "    <tr style=\"text-align: right;\">\n",
       "      <th></th>\n",
       "      <th>Codi Municipi</th>\n",
       "      <th>Codi Província</th>\n",
       "      <th>CUP_pct</th>\n",
       "      <th>CSQP_pct</th>\n",
       "      <th>Cs_pct</th>\n",
       "      <th>JxSi_pct</th>\n",
       "      <th>PP_pct</th>\n",
       "      <th>PSC_pct</th>\n",
       "      <th>Unio_pct</th>\n",
       "      <th>Unionisme_pct</th>\n",
       "      <th>...</th>\n",
       "      <th>Univ</th>\n",
       "      <th>Tot_Niv_Ed</th>\n",
       "      <th>pct_Univ</th>\n",
       "      <th>understands</th>\n",
       "      <th>speaks</th>\n",
       "      <th>reads</th>\n",
       "      <th>writes</th>\n",
       "      <th>no_underst</th>\n",
       "      <th>Tot_cat</th>\n",
       "      <th>pct_cat_speakers</th>\n",
       "    </tr>\n",
       "    <tr>\n",
       "      <th>Nom Municipi</th>\n",
       "      <th></th>\n",
       "      <th></th>\n",
       "      <th></th>\n",
       "      <th></th>\n",
       "      <th></th>\n",
       "      <th></th>\n",
       "      <th></th>\n",
       "      <th></th>\n",
       "      <th></th>\n",
       "      <th></th>\n",
       "      <th></th>\n",
       "      <th></th>\n",
       "      <th></th>\n",
       "      <th></th>\n",
       "      <th></th>\n",
       "      <th></th>\n",
       "      <th></th>\n",
       "      <th></th>\n",
       "      <th></th>\n",
       "      <th></th>\n",
       "      <th></th>\n",
       "    </tr>\n",
       "  </thead>\n",
       "  <tbody>\n",
       "    <tr>\n",
       "      <th>Abella de la Conca</th>\n",
       "      <td>25001</td>\n",
       "      <td>25</td>\n",
       "      <td>16.82</td>\n",
       "      <td>2.80</td>\n",
       "      <td>8.41</td>\n",
       "      <td>53.27</td>\n",
       "      <td>4.67</td>\n",
       "      <td>10.28</td>\n",
       "      <td>2.80</td>\n",
       "      <td>23.36</td>\n",
       "      <td>...</td>\n",
       "      <td>NaN</td>\n",
       "      <td>NaN</td>\n",
       "      <td>NaN</td>\n",
       "      <td>169</td>\n",
       "      <td>164</td>\n",
       "      <td>161</td>\n",
       "      <td>107</td>\n",
       "      <td>0</td>\n",
       "      <td>169</td>\n",
       "      <td>97.041420</td>\n",
       "    </tr>\n",
       "    <tr>\n",
       "      <th>Abrera</th>\n",
       "      <td>8001</td>\n",
       "      <td>8</td>\n",
       "      <td>6.43</td>\n",
       "      <td>13.31</td>\n",
       "      <td>25.14</td>\n",
       "      <td>23.92</td>\n",
       "      <td>8.79</td>\n",
       "      <td>18.10</td>\n",
       "      <td>1.86</td>\n",
       "      <td>52.03</td>\n",
       "      <td>...</td>\n",
       "      <td>NaN</td>\n",
       "      <td>9465</td>\n",
       "      <td>NaN</td>\n",
       "      <td>10796</td>\n",
       "      <td>7703</td>\n",
       "      <td>8748</td>\n",
       "      <td>6099</td>\n",
       "      <td>556</td>\n",
       "      <td>11351</td>\n",
       "      <td>67.861862</td>\n",
       "    </tr>\n",
       "    <tr>\n",
       "      <th>Agramunt</th>\n",
       "      <td>25003</td>\n",
       "      <td>25</td>\n",
       "      <td>5.21</td>\n",
       "      <td>3.56</td>\n",
       "      <td>8.64</td>\n",
       "      <td>66.48</td>\n",
       "      <td>6.34</td>\n",
       "      <td>5.52</td>\n",
       "      <td>2.98</td>\n",
       "      <td>20.50</td>\n",
       "      <td>...</td>\n",
       "      <td>NaN</td>\n",
       "      <td>4601</td>\n",
       "      <td>NaN</td>\n",
       "      <td>5344</td>\n",
       "      <td>4472</td>\n",
       "      <td>4582</td>\n",
       "      <td>3692</td>\n",
       "      <td>NaN</td>\n",
       "      <td>5416</td>\n",
       "      <td>82.570162</td>\n",
       "    </tr>\n",
       "    <tr>\n",
       "      <th>Aguilar de Segarra</th>\n",
       "      <td>8002</td>\n",
       "      <td>8</td>\n",
       "      <td>10.98</td>\n",
       "      <td>3.05</td>\n",
       "      <td>2.44</td>\n",
       "      <td>73.78</td>\n",
       "      <td>2.44</td>\n",
       "      <td>0.00</td>\n",
       "      <td>6.10</td>\n",
       "      <td>4.88</td>\n",
       "      <td>...</td>\n",
       "      <td>NaN</td>\n",
       "      <td>NaN</td>\n",
       "      <td>NaN</td>\n",
       "      <td>NaN</td>\n",
       "      <td>NaN</td>\n",
       "      <td>NaN</td>\n",
       "      <td>NaN</td>\n",
       "      <td>NaN</td>\n",
       "      <td>NaN</td>\n",
       "      <td>NaN</td>\n",
       "    </tr>\n",
       "    <tr>\n",
       "      <th>Agullana</th>\n",
       "      <td>17001</td>\n",
       "      <td>17</td>\n",
       "      <td>16.77</td>\n",
       "      <td>3.35</td>\n",
       "      <td>6.50</td>\n",
       "      <td>62.47</td>\n",
       "      <td>3.14</td>\n",
       "      <td>5.45</td>\n",
       "      <td>1.89</td>\n",
       "      <td>15.09</td>\n",
       "      <td>...</td>\n",
       "      <td>NaN</td>\n",
       "      <td>NaN</td>\n",
       "      <td>NaN</td>\n",
       "      <td>773</td>\n",
       "      <td>673</td>\n",
       "      <td>730</td>\n",
       "      <td>522</td>\n",
       "      <td>NaN</td>\n",
       "      <td>819</td>\n",
       "      <td>82.173382</td>\n",
       "    </tr>\n",
       "  </tbody>\n",
       "</table>\n",
       "<p>5 rows × 30 columns</p>\n",
       "</div>"
      ],
      "text/plain": [
       "                    Codi Municipi  Codi Província  CUP_pct  CSQP_pct  Cs_pct  \\\n",
       "Nom Municipi                                                                   \n",
       "Abella de la Conca          25001              25    16.82      2.80    8.41   \n",
       "Abrera                       8001               8     6.43     13.31   25.14   \n",
       "Agramunt                    25003              25     5.21      3.56    8.64   \n",
       "Aguilar de Segarra           8002               8    10.98      3.05    2.44   \n",
       "Agullana                    17001              17    16.77      3.35    6.50   \n",
       "\n",
       "                    JxSi_pct  PP_pct  PSC_pct  Unio_pct  Unionisme_pct  \\\n",
       "Nom Municipi                                                             \n",
       "Abella de la Conca     53.27    4.67    10.28      2.80          23.36   \n",
       "Abrera                 23.92    8.79    18.10      1.86          52.03   \n",
       "Agramunt               66.48    6.34     5.52      2.98          20.50   \n",
       "Aguilar de Segarra     73.78    2.44     0.00      6.10           4.88   \n",
       "Agullana               62.47    3.14     5.45      1.89          15.09   \n",
       "\n",
       "                          ...         Univ  Tot_Niv_Ed  pct_Univ  understands  \\\n",
       "Nom Municipi              ...                                                   \n",
       "Abella de la Conca        ...          NaN         NaN       NaN          169   \n",
       "Abrera                    ...          NaN        9465       NaN        10796   \n",
       "Agramunt                  ...          NaN        4601       NaN         5344   \n",
       "Aguilar de Segarra        ...          NaN         NaN       NaN          NaN   \n",
       "Agullana                  ...          NaN         NaN       NaN          773   \n",
       "\n",
       "                    speaks  reads  writes  no_underst  Tot_cat  \\\n",
       "Nom Municipi                                                     \n",
       "Abella de la Conca     164    161     107           0      169   \n",
       "Abrera                7703   8748    6099         556    11351   \n",
       "Agramunt              4472   4582    3692         NaN     5416   \n",
       "Aguilar de Segarra     NaN    NaN     NaN         NaN      NaN   \n",
       "Agullana               673    730     522         NaN      819   \n",
       "\n",
       "                    pct_cat_speakers  \n",
       "Nom Municipi                          \n",
       "Abella de la Conca         97.041420  \n",
       "Abrera                     67.861862  \n",
       "Agramunt                   82.570162  \n",
       "Aguilar de Segarra               NaN  \n",
       "Agullana                   82.173382  \n",
       "\n",
       "[5 rows x 30 columns]"
      ]
     },
     "execution_count": 142,
     "metadata": {},
     "output_type": "execute_result"
    }
   ],
   "source": [
    "DF_ALL_MUNIC_DATA.head()"
   ]
  },
  {
   "cell_type": "code",
   "execution_count": 143,
   "metadata": {
    "collapsed": false
   },
   "outputs": [
    {
     "data": {
      "text/plain": [
       "(0, 100)"
      ]
     },
     "execution_count": 143,
     "metadata": {},
     "output_type": "execute_result"
    }
   ],
   "source": [
    "plt.scatter(DF_ALL_MUNIC_DATA['pct_spa'], DF_ALL_MUNIC_DATA['Unionisme_pct'], color='blue', edgecolors='black')\n",
    "plt.scatter(DF_ALL_MUNIC_DATA['pct_spa'], DF_ALL_MUNIC_DATA['Independ_pct'], color='yellow', edgecolors='b')\n",
    "plt.xlim(0, 35)\n",
    "plt.ylim(0, 100)"
   ]
  },
  {
   "cell_type": "code",
   "execution_count": 144,
   "metadata": {
    "collapsed": false
   },
   "outputs": [
    {
     "data": {
      "text/plain": [
       "<matplotlib.collections.PathCollection at 0x11924d400>"
      ]
     },
     "execution_count": 144,
     "metadata": {},
     "output_type": "execute_result"
    }
   ],
   "source": [
    "#plt.scatter(DF_ALL_MUNIC_DATA['pct_cat_speakers'], DF_ALL_MUNIC_DATA['Unionisme_pct'], s= DF_ALL_MUNIC_DATA['Tot']/100)\n",
    "plt.scatter(DF_ALL_MUNIC_DATA['pct_cat_speakers'], DF_ALL_MUNIC_DATA['Independ_pct'],\n",
    "            edgecolors='b',\n",
    "            s= DF_ALL_MUNIC_DATA['Tot']/100, \n",
    "            color='y',\n",
    "            alpha=0.6)"
   ]
  },
  {
   "cell_type": "code",
   "execution_count": 145,
   "metadata": {
    "collapsed": false
   },
   "outputs": [
    {
     "data": {
      "text/plain": [
       "<matplotlib.collections.PathCollection at 0x1104ad048>"
      ]
     },
     "execution_count": 145,
     "metadata": {},
     "output_type": "execute_result"
    }
   ],
   "source": [
    "plt.scatter(DF_ALL_MUNIC_DATA['pct_cat_speakers'], DF_ALL_MUNIC_DATA['pct_spa'] + DF_ALL_MUNIC_DATA['pct_foreign'])"
   ]
  },
  {
   "cell_type": "code",
   "execution_count": 146,
   "metadata": {
    "collapsed": false
   },
   "outputs": [
    {
     "data": {
      "text/plain": [
       "<matplotlib.collections.PathCollection at 0x1190d0c50>"
      ]
     },
     "execution_count": 146,
     "metadata": {},
     "output_type": "execute_result"
    }
   ],
   "source": [
    "plt.scatter( DF_ALL_MUNIC_DATA['pct_Univ'], DF_ALL_MUNIC_DATA['Independ_pct'], s= DF_ALL_MUNIC_DATA['Tot']/100, alpha=0.7)"
   ]
  },
  {
   "cell_type": "code",
   "execution_count": 147,
   "metadata": {
    "collapsed": false
   },
   "outputs": [
    {
     "data": {
      "text/plain": [
       "Index(['Codi Municipi', 'Codi Província', 'CUP_pct', 'CSQP_pct', 'Cs_pct',\n",
       "       'JxSi_pct', 'PP_pct', 'PSC_pct', 'Unio_pct', 'Unionisme_pct',\n",
       "       'Independ_pct', 'Cat', 'Spa', 'Abroad', 'Tot', 'pct_foreign', 'pct_spa',\n",
       "       'ST', '1erGrau', '2nGrau', 'Univ', 'Tot_Niv_Ed', 'pct_Univ',\n",
       "       'understands', 'speaks', 'reads', 'writes', 'no_underst', 'Tot_cat',\n",
       "       'pct_cat_speakers'],\n",
       "      dtype='object')"
      ]
     },
     "execution_count": 147,
     "metadata": {},
     "output_type": "execute_result"
    }
   ],
   "source": [
    "DF_ALL_MUNIC_DATA.keys()"
   ]
  },
  {
   "cell_type": "code",
   "execution_count": 148,
   "metadata": {
    "collapsed": false
   },
   "outputs": [
    {
     "name": "stdout",
     "output_type": "stream",
     "text": [
      "                            OLS Regression Results                            \n",
      "==============================================================================\n",
      "Dep. Variable:           Independ_pct   R-squared:                       0.157\n",
      "Model:                            OLS   Adj. R-squared:                  0.146\n",
      "Method:                 Least Squares   F-statistic:                     13.89\n",
      "Date:                Tue, 29 Aug 2017   Prob (F-statistic):           2.93e-06\n",
      "Time:                        09:55:42   Log-Likelihood:                -616.10\n",
      "No. Observations:                 152   AIC:                             1238.\n",
      "Df Residuals:                     149   BIC:                             1247.\n",
      "Df Model:                           2                                         \n",
      "Covariance Type:            nonrobust                                         \n",
      "===============================================================================\n",
      "                  coef    std err          t      P>|t|      [95.0% Conf. Int.]\n",
      "-------------------------------------------------------------------------------\n",
      "Intercept      36.6028      4.302      8.508      0.000        28.101    45.104\n",
      "pct_foreign    -0.0280      0.151     -0.185      0.854        -0.327     0.271\n",
      "pct_Univ        0.8116      0.158      5.134      0.000         0.499     1.124\n",
      "==============================================================================\n",
      "Omnibus:                        4.234   Durbin-Watson:                   2.006\n",
      "Prob(Omnibus):                  0.120   Jarque-Bera (JB):                2.703\n",
      "Skew:                           0.126   Prob(JB):                        0.259\n",
      "Kurtosis:                       2.397   Cond. No.                         95.9\n",
      "==============================================================================\n",
      "\n",
      "Warnings:\n",
      "[1] Standard Errors assume that the covariance matrix of the errors is correctly specified.\n"
     ]
    }
   ],
   "source": [
    "####STATSMODELS REGRESSION ####################\n",
    "## before symbolic regression get rid of blank spaces in column names\n",
    "DF_ALL_MUNIC_DATA.columns = DF_ALL_MUNIC_DATA.columns.str.replace(\" \",\"_\")\n",
    "#import libraries\n",
    "import statsmodels.api as sm\n",
    "import statsmodels.formula.api as smf\n",
    "\n",
    "## Fit regression model()\n",
    "results = smf.ols(\"Independ_pct ~ pct_foreign + pct_Univ \", data = DF_ALL_MUNIC_DATA).fit()\n",
    "## Inspect the results\n",
    "print ( results.summary())"
   ]
  },
  {
   "cell_type": "code",
   "execution_count": null,
   "metadata": {
    "collapsed": true
   },
   "outputs": [],
   "source": []
  }
 ],
 "metadata": {
  "kernelspec": {
   "display_name": "Python 3",
   "language": "python",
   "name": "python3"
  },
  "language_info": {
   "codemirror_mode": {
    "name": "ipython",
    "version": 3
   },
   "file_extension": ".py",
   "mimetype": "text/x-python",
   "name": "python",
   "nbconvert_exporter": "python",
   "pygments_lexer": "ipython3",
   "version": "3.5.1"
  }
 },
 "nbformat": 4,
 "nbformat_minor": 0
}
